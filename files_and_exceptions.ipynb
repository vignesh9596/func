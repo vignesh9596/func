{
  "nbformat": 4,
  "nbformat_minor": 0,
  "metadata": {
    "colab": {
      "provenance": []
    },
    "kernelspec": {
      "name": "python3",
      "display_name": "Python 3"
    },
    "language_info": {
      "name": "python"
    }
  },
  "cells": [
    {
      "cell_type": "code",
      "execution_count": 404,
      "metadata": {
        "id": "jY-T-JK585Bt"
      },
      "outputs": [],
      "source": []
    },
    {
      "cell_type": "markdown",
      "source": [
        "1.What is the difference between interpreted and compiled languages?\n",
        "- ans:Interpreted: Code is executed line by line (e.g., Python).\n",
        "\n",
        "Compiled: Code is translated to machine code before execution (e.g., C++).\n",
        "\n",
        "Difference: Compiled languages are faster; interpreted are easier to debug.\n",
        "\n",
        "2. Exception Handling in Python\n",
        "- ans:It’s a mechanism to catch and manage runtime errors using try, except, finally, and else blocks.\n",
        "\n",
        "3. What is the purpose of the finally block in exception handling0\n",
        "- ans:Executes regardless of whether an exception occurred.\n",
        "\n",
        "Used for cleanup actions like closing files or releasing resources.\n",
        "\n",
        "4. What is logging in Python0\n",
        " - ans:Provides a way to track events that happen while running software, useful for debugging and monitoring.\n",
        "\n",
        "5.What is the significance of the __del__ method in Python0\n",
        "- ans: It’s a destructor method called when an object is about to be destroyed to perform cleanup operations.\n",
        "\n",
        "6.What is the difference between import and from ... import in Python0\n",
        "- ans:import module: You use module.function().\n",
        "\n",
        "from module import function: You use function() directly.\n",
        "\n",
        "7.How can you handle multiple exceptions in Python0\n",
        "- ans:python\n",
        "Copy\n",
        "Edit\n",
        "try:\n",
        "    # risky code\n",
        "except (ValueError, TypeError) as e:\n",
        "    print(e)\n",
        "8.What is the purpose of the with statement when handling files in Python\n",
        "- ans:Automatically manages file open/close operations.\n",
        "\n",
        "python\n",
        "Copy\n",
        "Edit\n",
        "with open('file.txt') as f:\n",
        "    data = f.read()\n",
        "9. What is the difference between multithreading and multiprocessing\n",
        "- ans:Multithreading: Multiple threads within one process (shared memory).\n",
        "\n",
        "Multiprocessing: Multiple processes (independent memory).\n",
        "\n",
        "Use: Threads for I/O-bound, processes for CPU-bound tasks.\n",
        "10. What are the advantages of using logging in a program\n",
        "- ans:Helps with debugging, monitoring, and maintaining large applications.\n",
        "\n",
        "Better than print statements for production code.\n",
        "\n",
        "11. What is memory management in Python\n",
        "- ans:Managed by Python’s memory manager and includes:\n",
        "\n",
        "Reference counting\n",
        "\n",
        "Garbage collection\n",
        "\n",
        "Memory pooling\n",
        "12. What are the basic steps involved in exception handling in Python\n",
        "- ans:Use try block for code that may raise exceptions.\n",
        "\n",
        "Use except block(s) to handle exceptions.\n",
        "\n",
        "Optionally use else and finally blocks.\n",
        "13. Why is memory management important in Python\n",
        "-ans:Prevents memory leaks\n",
        "\n",
        "Ensures efficient use of system resources\n",
        "\n",
        "Improves application performance\n",
        "14. What is the role of try and except in exception handling0\n",
        "- ans:try: Wrap code that might raise an exception.\n",
        "\n",
        "except: Handle specific or general exceptions gracefully.\n",
        "15. How does Python's garbage collection system work\n",
        "ans:Uses reference counting and a cyclic garbage collector to automatically reclaim memory of unused objects.\n",
        "\n",
        "16. What is the purpose of the else block in exception handling\n",
        "- ans:Executes if the try block does not raise an exception.\n",
        "\n",
        "17. What are the common logging levels in Python\n",
        "-ans:DEBUG, INFO, WARNING, ERROR, CRITICAL\n",
        "\n",
        "18. What is the difference between os.fork() and multiprocessing in Python\n",
        "-ans:os.fork(): UNIX-only, low-level process creation.\n",
        "\n",
        "19. What is the importance of closing a file in Python\n",
        "- ans:Frees up system resources and ensures data is properly saved to disk.\n",
        "\n",
        "20. What is the difference between file.read() and file.readline() in Python\n",
        "- ans:read(): Reads entire file.\n",
        "\n",
        "readline(): Reads one line at a time.\n",
        "21. What is the logging module in Python used for\n",
        "- ans:Built-in module to track events and write logs to files or console.\n",
        "\n",
        "22. What is the os module in Python used for in file handling\n",
        "- ans:Provides functions like os.rename(), os.remove(), os.path.exists(), useful for interacting with the file system.\n",
        "\n",
        "23.What are the challenges associated with memory management in Python\n",
        "- ans:Circular references\n",
        "\n",
        "Managing large datasets\n",
        "\n",
        "Performance issues from excessive memory usage\n",
        "\n",
        "24.How do you raise an exception manually in Python\n",
        "- ans:python\n",
        "Copy\n",
        "Edit\n",
        "raise ValueError(\"Invalid input\")\n",
        "\n",
        "25. Why is it important to use multithreading in certain applications?\n",
        "- ans:Improves performance in I/O-bound applications (like web scraping or file operations) by doing multiple tasks in parallel.\n",
        "\n",
        "\n"
      ],
      "metadata": {
        "id": "1IJ-w5co86JC"
      }
    },
    {
      "cell_type": "code",
      "source": [
        "# How can you open a file for writing in Python and write a string to it\u001f\n",
        "with open('output.txt', 'w') as file:\n",
        "    file.write(\"Hello, this is a test string.\")\n"
      ],
      "metadata": {
        "id": "aFQisZ_Q_-I_"
      },
      "execution_count": 405,
      "outputs": []
    },
    {
      "cell_type": "code",
      "source": [
        "#2.Write a Python program to read the contents of a file and print each line\n",
        "with open('output.txt', 'r') as file:\n",
        "    for line in file:\n",
        "        print(line.strip())\n"
      ],
      "metadata": {
        "colab": {
          "base_uri": "https://localhost:8080/"
        },
        "id": "wa6YplroALFt",
        "outputId": "580f109a-f978-4ce2-c4c2-9144a49f12c4"
      },
      "execution_count": 406,
      "outputs": [
        {
          "output_type": "stream",
          "name": "stdout",
          "text": [
            "Hello, this is a test string.\n"
          ]
        }
      ]
    },
    {
      "cell_type": "code",
      "source": [
        "#3.How would you handle a case where the file doesn't exist while trying to open it for reading\n",
        "try:\n",
        "    with open('bun.txt', 'r') as file:\n",
        "        print(file.read())\n",
        "except FileNotFoundError:\n",
        "    print(\"File does not exist.\")\n"
      ],
      "metadata": {
        "colab": {
          "base_uri": "https://localhost:8080/"
        },
        "id": "i-E0iISaAib_",
        "outputId": "bfe0ace5-0636-4f99-ffd4-b72e6e495cea"
      },
      "execution_count": 407,
      "outputs": [
        {
          "output_type": "stream",
          "name": "stdout",
          "text": [
            "File does not exist.\n"
          ]
        }
      ]
    },
    {
      "cell_type": "markdown",
      "source": [],
      "metadata": {
        "id": "vinpPt0bAxM5"
      }
    },
    {
      "cell_type": "code",
      "source": [
        "#4 Write a Python script that reads from one file and writes its content to another file\n",
        "with open('output.txt', 'r') as src, open('destination.txt', 'w') as dest:\n",
        "    for line in src:\n",
        "        dest.write(line)\n"
      ],
      "metadata": {
        "id": "2k5DNoZuAxYo"
      },
      "execution_count": 408,
      "outputs": []
    },
    {
      "cell_type": "code",
      "source": [
        "#5.How would you catch and handle division by zero error in Python\n",
        "try:\n",
        "    result = 10 / 0\n",
        "except ZeroDivisionError:\n",
        "    print(\"Cannot divide by zero!\")\n"
      ],
      "metadata": {
        "colab": {
          "base_uri": "https://localhost:8080/"
        },
        "id": "-7K0Smj0A94f",
        "outputId": "8ce04528-d60f-4936-d213-2ae8c2c43122"
      },
      "execution_count": 409,
      "outputs": [
        {
          "output_type": "stream",
          "name": "stdout",
          "text": [
            "Cannot divide by zero!\n"
          ]
        }
      ]
    },
    {
      "cell_type": "code",
      "source": [
        "#6.Write a Python program that logs an error message to a log file when a division by zero exception occurs\n",
        "import logging\n",
        "logging.basicConfig(filename='error.log', level=logging.ERROR)\n",
        "\n",
        "try:\n",
        "    result = 10 / 0\n",
        "except ZeroDivisionError as e:\n",
        "    logging.error(f\"Error occurred: {e}\")\n"
      ],
      "metadata": {
        "colab": {
          "base_uri": "https://localhost:8080/"
        },
        "id": "dRAIhhWJA9AA",
        "outputId": "e2761d2a-fe56-48ac-a3c2-88d1923b783a"
      },
      "execution_count": 410,
      "outputs": [
        {
          "output_type": "stream",
          "name": "stderr",
          "text": [
            "ERROR:root:Error occurred: division by zero\n"
          ]
        }
      ]
    },
    {
      "cell_type": "code",
      "source": [
        "#7.How do you log information at different levels (INFO, ERROR, WARNING) in Python using the logging module\n",
        "import logging\n",
        "logging.basicConfig(level=logging.DEBUG)\n",
        "\n",
        "logging.info(\"This is an info message.\")\n",
        "logging.warning(\"This is a warning.\")\n",
        "logging.error(\"This is an error.\")\n"
      ],
      "metadata": {
        "colab": {
          "base_uri": "https://localhost:8080/"
        },
        "id": "WTn0jV3BBaFJ",
        "outputId": "915070e7-a746-4834-eb02-7ebbae6a93a9"
      },
      "execution_count": 411,
      "outputs": [
        {
          "output_type": "stream",
          "name": "stderr",
          "text": [
            "WARNING:root:This is a warning.\n",
            "ERROR:root:This is an error.\n"
          ]
        }
      ]
    },
    {
      "cell_type": "code",
      "source": [
        "#8.Write a program to handle a file opening error using exception handling\n",
        "try:\n",
        "    with open('myfile.txt', 'r') as file:\n",
        "        content = file.read()\n",
        "except FileNotFoundError:\n",
        "    print(\"File could not be opened. It may not exist.\")\n"
      ],
      "metadata": {
        "colab": {
          "base_uri": "https://localhost:8080/"
        },
        "id": "ImnkTs5yBgDb",
        "outputId": "d1825fbd-30ec-40fb-b7ee-84a76939797c"
      },
      "execution_count": 412,
      "outputs": [
        {
          "output_type": "stream",
          "name": "stdout",
          "text": [
            "File could not be opened. It may not exist.\n"
          ]
        }
      ]
    },
    {
      "cell_type": "code",
      "source": [
        "#9.How can you read a file line by line and store its content in a list in Python\n",
        "with open('output.txt', 'r') as file:\n",
        "    lines = file.readlines()\n",
        "print(lines)\n"
      ],
      "metadata": {
        "colab": {
          "base_uri": "https://localhost:8080/"
        },
        "id": "CpHG4TMxBql7",
        "outputId": "a6390500-f2f7-4ae9-9254-afac239c82d1"
      },
      "execution_count": 413,
      "outputs": [
        {
          "output_type": "stream",
          "name": "stdout",
          "text": [
            "['Hello, this is a test string.']\n"
          ]
        }
      ]
    },
    {
      "cell_type": "code",
      "source": [
        "#10.How can you append data to an existing file in Python\n",
        "with open('append.txt', 'a') as file:\n",
        "    file.write(\"Appending new line.\\n\")\n"
      ],
      "metadata": {
        "id": "VN_6iXJNB2l6"
      },
      "execution_count": 414,
      "outputs": []
    },
    {
      "cell_type": "code",
      "source": [
        "#11.Write a Python program that uses a try-except block to handle an error when attempting to access a dictionary key that doesn't exist\n",
        "try:\n",
        "    my_dict = {'name': 'Alice'}\n",
        "    print(my_dict['age'])\n",
        "except KeyError:\n",
        "    print(\"Key does not exist in dictionary.\")\n"
      ],
      "metadata": {
        "colab": {
          "base_uri": "https://localhost:8080/"
        },
        "id": "8O78gRh5CBFE",
        "outputId": "71c9c898-3ad3-4e07-e67d-4115cc63c2a8"
      },
      "execution_count": 415,
      "outputs": [
        {
          "output_type": "stream",
          "name": "stdout",
          "text": [
            "Key does not exist in dictionary.\n"
          ]
        }
      ]
    },
    {
      "cell_type": "code",
      "source": [
        "#12.Write a program that demonstrates using multiple except blocks to handle different types of exceptions\n",
        "try:\n",
        "    x = int(\"abc\")\n",
        "    y = 10 / 0\n",
        "except ValueError:\n",
        "    print(\"ValueError caught!\")\n",
        "except ZeroDivisionError:\n",
        "    print(\"ZeroDivisionError caught!\")\n"
      ],
      "metadata": {
        "colab": {
          "base_uri": "https://localhost:8080/"
        },
        "id": "S08IWtwECMaG",
        "outputId": "405dce70-ec1b-4b9e-9029-9c56eaed6f34"
      },
      "execution_count": 416,
      "outputs": [
        {
          "output_type": "stream",
          "name": "stdout",
          "text": [
            "ValueError caught!\n"
          ]
        }
      ]
    },
    {
      "cell_type": "code",
      "source": [
        "#13. How would you check if a file exists before attempting to read it in Python\n",
        "import os\n",
        "\n",
        "if os.path.exists('check.txt'):\n",
        "    with open('check.txt', 'r') as file:\n",
        "        print(file.read())\n",
        "else:\n",
        "    print(\"File not found.\")\n",
        "\n"
      ],
      "metadata": {
        "colab": {
          "base_uri": "https://localhost:8080/"
        },
        "id": "Kka2RPv0CVsD",
        "outputId": "ce0fc8b9-7cf4-4cf0-aa5e-1d88001a3e42"
      },
      "execution_count": 417,
      "outputs": [
        {
          "output_type": "stream",
          "name": "stdout",
          "text": [
            "File not found.\n"
          ]
        }
      ]
    },
    {
      "cell_type": "code",
      "source": [
        "#14.Write a program that uses the logging module to log both informational and error messagesF\n",
        "import logging\n",
        "logging.basicConfig(filename='app.log', level=logging.DEBUG)\n",
        "\n",
        "logging.info(\"Program started.\")\n",
        "try:\n",
        "    10 / 0\n",
        "except ZeroDivisionError:\n",
        "    logging.error(\"Attempted division by zero.\")\n"
      ],
      "metadata": {
        "colab": {
          "base_uri": "https://localhost:8080/"
        },
        "id": "GwdEUgf7CeKr",
        "outputId": "b69b68f7-0564-4692-f9c8-581c2a0cebc4"
      },
      "execution_count": 418,
      "outputs": [
        {
          "output_type": "stream",
          "name": "stderr",
          "text": [
            "ERROR:root:Attempted division by zero.\n"
          ]
        }
      ]
    },
    {
      "cell_type": "code",
      "source": [
        "#15.Write a Python program that prints the content of a file and handles the case when the file is empty\n",
        "with open('output.txt', 'r') as file:\n",
        "    content = file.read()\n",
        "    if not content:\n",
        "        print(\"File is empty.\")\n",
        "    else:\n",
        "        print(content)\n"
      ],
      "metadata": {
        "colab": {
          "base_uri": "https://localhost:8080/"
        },
        "id": "5Ff6TZnkCqgu",
        "outputId": "ba228e1a-c582-498f-e6a1-f7f75fb19533"
      },
      "execution_count": 419,
      "outputs": [
        {
          "output_type": "stream",
          "name": "stdout",
          "text": [
            "Hello, this is a test string.\n"
          ]
        }
      ]
    },
    {
      "cell_type": "code",
      "source": [
        "#16 monstrate how to use memory profiling to check the memory usage of a small programF\n",
        "from memory_profiler import profile\n",
        "\n",
        "@profile\n",
        "def my_function():\n",
        "    a = [i for i in range(10000)]\n",
        "    return sum(a)\n",
        "\n",
        "my_function()\n"
      ],
      "metadata": {
        "id": "Na1K6jb6Edr0"
      },
      "execution_count": null,
      "outputs": []
    },
    {
      "cell_type": "code",
      "source": [
        " #17 Write a Python program to create and write a list of numbers to a file, one number per line\n",
        " numbers = [1, 2, 3, 4, 5]\n",
        "with open('numbers.txt', 'w') as file:\n",
        "    for num in numbers:\n",
        "        file.write(f\"{num}\\n\")\n"
      ],
      "metadata": {
        "id": "_iGJEOhWC4KR"
      },
      "execution_count": 420,
      "outputs": []
    },
    {
      "cell_type": "code",
      "source": [
        "#18 How would you implement a basic logging setup that logs to a file with rotation after 1MB\u001f\n",
        "import logging\n",
        "from logging.handlers import RotatingFileHandler\n",
        "\n",
        "handler = RotatingFileHandler('rotate.log', maxBytes=1024*1024, backupCount=3)\n",
        "logging.basicConfig(handlers=[handler], level=logging.INFO)\n",
        "logging.info(\"Logging with rotation!\")\n",
        "\n"
      ],
      "metadata": {
        "id": "-kNyQ8l1DDTb"
      },
      "execution_count": 421,
      "outputs": []
    },
    {
      "cell_type": "code",
      "source": [
        "#19 Write a program that handles both IndexError and KeyError using a try-except blockF\n",
        "try:\n",
        "    my_list = [1, 2]\n",
        "    print(my_list[5])\n",
        "    my_dict = {}\n",
        "    print(my_dict['key'])\n",
        "except IndexError:\n",
        "    print(\"IndexError caught!\")\n",
        "except KeyError:\n",
        "    print(\"KeyError caught!\")\n"
      ],
      "metadata": {
        "colab": {
          "base_uri": "https://localhost:8080/"
        },
        "id": "Jk8wPEuQDjxG",
        "outputId": "c8922b13-6b9c-47e1-dbaf-e15e660b103b"
      },
      "execution_count": 422,
      "outputs": [
        {
          "output_type": "stream",
          "name": "stdout",
          "text": [
            "IndexError caught!\n"
          ]
        }
      ]
    },
    {
      "cell_type": "code",
      "source": [
        "#20 How would you open a file and read its contents using a context manager in Python\u001f\n",
        "with open('output.txt', 'r') as file:\n",
        "    print(file.read())\n"
      ],
      "metadata": {
        "colab": {
          "base_uri": "https://localhost:8080/"
        },
        "id": "qvOvpvPFDvQW",
        "outputId": "339ace21-663c-46a1-c055-b989bac2d2cb"
      },
      "execution_count": 423,
      "outputs": [
        {
          "output_type": "stream",
          "name": "stdout",
          "text": [
            "Hello, this is a test string.\n"
          ]
        }
      ]
    },
    {
      "cell_type": "code",
      "source": [
        "#21 Write a Python program that reads a file and prints the number of occurrences of a specific wordF\n",
        "word = \"python\"\n",
        "count = 0\n",
        "with open('output.txt', 'r') as file:\n",
        "    for line in file:\n",
        "        count += line.lower().count(word.lower())\n",
        "print(f\"'{word}' occurred {count} times.\")\n"
      ],
      "metadata": {
        "colab": {
          "base_uri": "https://localhost:8080/"
        },
        "id": "hwa7ECYJD4_7",
        "outputId": "cb998f0e-0df5-4d19-dede-ca09a9873b5f"
      },
      "execution_count": 424,
      "outputs": [
        {
          "output_type": "stream",
          "name": "stdout",
          "text": [
            "'python' occurred 0 times.\n"
          ]
        }
      ]
    },
    {
      "cell_type": "code",
      "source": [
        "#22 How can you check if a file is empty before attempting to read its contents\u001f\n",
        "import os\n",
        "\n",
        "if os.path.getsize('output.txt') == 0:\n",
        "    print(\"File is empty.\")\n",
        "else:\n",
        "    with open('output.txt', 'r') as file:\n",
        "        print(file.read())\n"
      ],
      "metadata": {
        "colab": {
          "base_uri": "https://localhost:8080/"
        },
        "id": "lmmptgw_EFPG",
        "outputId": "aca2473c-fbec-46d1-e5f8-12690fe38b93"
      },
      "execution_count": 425,
      "outputs": [
        {
          "output_type": "stream",
          "name": "stdout",
          "text": [
            "Hello, this is a test string.\n"
          ]
        }
      ]
    },
    {
      "cell_type": "code",
      "source": [
        "# 23 Write a Python program that writes to a log file when an error occurs during file handling.\n",
        "import logging\n",
        "logging.basicConfig(filename='file_error.log', level=logging.ERROR)\n",
        "\n",
        "try:\n",
        "    with open('nofile.txt', 'r') as file:\n",
        "        data = file.read()\n",
        "except Exception as e:\n",
        "    logging.error(f\"File handling error: {e}\")\n"
      ],
      "metadata": {
        "colab": {
          "base_uri": "https://localhost:8080/"
        },
        "id": "AWtztG0cEVFi",
        "outputId": "fc1d035c-5e84-4e05-b8c6-9bd3cab62050"
      },
      "execution_count": 426,
      "outputs": [
        {
          "output_type": "stream",
          "name": "stderr",
          "text": [
            "ERROR:root:File handling error: [Errno 2] No such file or directory: 'nofile.txt'\n"
          ]
        }
      ]
    },
    {
      "cell_type": "markdown",
      "source": [],
      "metadata": {
        "id": "c_QXys-WDzyW"
      }
    },
    {
      "cell_type": "markdown",
      "source": [],
      "metadata": {
        "id": "YHgJzD2vDzOg"
      }
    }
  ]
}