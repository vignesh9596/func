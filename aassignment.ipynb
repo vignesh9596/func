{
  "nbformat": 4,
  "nbformat_minor": 0,
  "metadata": {
    "colab": {
      "provenance": []
    },
    "kernelspec": {
      "name": "python3",
      "display_name": "Python 3"
    },
    "language_info": {
      "name": "python"
    }
  },
  "cells": [
    {
      "cell_type": "code",
      "execution_count": 153,
      "metadata": {
        "id": "vgAQ9hyLkNdA"
      },
      "outputs": [],
      "source": []
    },
    {
      "cell_type": "markdown",
      "source": [
        "1)What is Object-Oriented Programming (OOP)?\n",
        "  - OOP is a programming paradigm based on the concept of “objects” that contain data (attributes) and code (methods). It promotes modularity, code reuse, and organization.\n",
        "\n",
        "2)What is a class in OOP?\n",
        " -  ans:A class is a blueprint for creating objects. It defines attributes and methods that the objects created from the class will have.\n",
        "\n",
        "3)What is an object in OOP?\n",
        "  - ans:An object is an instance of a class. It holds actual values for the attributes defined by its class. -\n",
        "\n",
        "4)What is the difference between abstraction and encapsulation?\n",
        " - ans:Abstraction hides complexity by exposing only essential features.Encapsulation hides internal state and functionality by restricting direct access (usually using private/protected access).\n",
        "\n",
        "5)What are dunder methods in Python?\n",
        " - ans:Dunder (double underscore) methods like init, str, add, etc., are special methods used to define behaviors for operators and built-in functions.\n",
        "\n",
        "6)Explain the concept of inheritance in OOP?\n",
        " - ans:Inheritance allows a class (child/subclass) to inherit attributes and methods from another class (parent/superclass), promoting code reuse.\n",
        "\n",
        "7)What is polymorphism in OOP?\n",
        " - ans:Polymorphism allows different classes to be treated as instances of the same class through a common interface, enabling method overriding and operator overloading.\n",
        "\n",
        "8)How is encapsulation achieved in Python?\n",
        "- ans:Encapsulation is achieved using private (__var) and protected (_var) variable naming and controlling access via getter/setter methods or property decorators.\n",
        "\n",
        "9)What is a constructor in Python?\n",
        "- ans:init() is the constructor method in Python. It’s automatically called when an object is instantiated.\n",
        "\n",
        "10)What are class and static methods in Python?\n",
        "-  ans:Class method: Uses @classmethod, takes cls as the first argument, can access class variables. Static method: Uses @staticmethod, doesn’t take self or cls, acts like a regular function within a class context.\n",
        "\n",
        "11)What is method overloading in Python?\n",
        "- ans:Python doesn’t support traditional method overloading. However, you can achieve it using default arguments or variable-length arguments (*args, **kwargs).\n",
        "\n",
        "12)What is method overriding in OOP?\n",
        "- ans:Method overriding is redefining a method in a subclass that already exists in its superclass.\n",
        "\n",
        "13)What is a property decorator in Python?\n",
        "- ans:@property allows you to define methods that can be accessed like attributes, often used for getters/setters in encapsulation.\n",
        "\n",
        "14)Why is polymorphism important in OOP?\n",
        "- ans:Polymorphism increases flexibility and scalability by allowing objects of different classes to be treated uniformly based on shared methods.\n",
        "\n",
        "15)What is an abstract class in Python?\n",
        "- ans:An abstract class, defined using abc module and @abstractmethod, cannot be instantiated and is used to define interfaces that subclasses must implement.\n",
        "\n",
        "16)What are the advantages of OOP?\n",
        "- ans:Code reuse through inheritance Better organization through classes Flexibility via polymorphism Encapsulation ensures data safety Easier debugging and maintenance\n",
        "\n",
        "17)What is the difference between a class variable and an instance variable?\n",
        "- ans:Class variable: Shared among all instances (defined outside init). Instance variable: Unique to each object (defined in init using self).\n",
        "\n",
        "18)What is multiple inheritance in Python?\n",
        "- ans:A class can inherit from multiple classes. Python resolves method conflicts using the Method Resolution Order (MRO).\n",
        "\n",
        "19)Explain the purpose of str and repr methods in Python?\n",
        "- ans:str: Returns a user-friendly string representation of an object.\n",
        "\n",
        "repr: Returns an unambiguous string for developers, often used for debugging.\n",
        "\n",
        "20)What is the significance of the super() function in Python?\n",
        "- ans:super() allows you to call methods from the parent class, useful in inheritance, especially with init() and method overriding\n",
        "21)What is the significance of the del method in Python?\n",
        "- ans:del() is the destructor method called when an object is about to be destroyed. It’s used to clean up resources but should be used sparingly due to unpredictability in garbage collection.\n",
        "\n",
        "22)What is the difference between @staticmethod and @classmethod in Python? - ans:Feature @staticmethod @classmethod First parameter No implicit first argument Takes cls as the first parameter Access Cannot access class or instance data Can access and modify class-level data Usage Utility functions related to the class Factory methods or class-specific behavior Inheritance Does not change behavior in subclasses Affected by subclass and respects inheritance\n",
        "\n",
        " 23)How does polymorphism work in Python with inheritance?\n",
        " - ans:Polymorphism allows different classes to implement the same method name with different behavior. Python supports this through method overriding in inheritance.\n",
        "\n",
        " 24)What is method chaining in Python OOP?\n",
        " -ans:Method chaining is a technique where multiple methods are called in a single line by returning self from each method.\n",
        "\n",
        "  25)What is the purpose of the call method in Python?\n",
        "  - ans:The call method allows an instance of a class to be called like a function.Use case: Making objects callable, such as for decorators, configuration, or function-like objects."
      ],
      "metadata": {
        "id": "aKgumYdSkQmo"
      }
    },
    {
      "cell_type": "code",
      "source": [
        "#1 Parent and Child Class with Method Overriding\n",
        "class Animal:\n",
        "    def speak(self):\n",
        "        print(\"Animal makes a sound\")\n",
        "\n",
        "class Dog(Animal):\n",
        "    def speak(self):\n",
        "        print(\"Bark!\")\n",
        "\n",
        "dog = Dog()\n",
        "dog.speak()"
      ],
      "metadata": {
        "colab": {
          "base_uri": "https://localhost:8080/"
        },
        "id": "s10SH1bSnxNx",
        "outputId": "b0e85f7e-2b6c-4c2b-c2df-9c1e3169200d"
      },
      "execution_count": 154,
      "outputs": [
        {
          "output_type": "stream",
          "name": "stdout",
          "text": [
            "Bark!\n"
          ]
        }
      ]
    },
    {
      "cell_type": "code",
      "source": [
        "#2. Abstract Class Shape with Circle and Rectangle\n",
        "from abc import ABC, abstractmethod\n",
        "import math\n",
        "\n",
        "class Shape(ABC):\n",
        "    @abstractmethod\n",
        "    def area(self):\n",
        "        pass\n",
        "\n",
        "class Circle(Shape):\n",
        "    def __init__(self, radius):\n",
        "        self.radius = radius\n",
        "\n",
        "    def area(self):\n",
        "        return math.pi * self.radius ** 2\n",
        "\n",
        "class Rectangle(Shape):\n",
        "    def __init__(self, width, height):\n",
        "        self.width = width\n",
        "        self.height = height\n",
        "\n",
        "    def area(self):\n",
        "        return self.width * self.height\n",
        "\n",
        "c = Circle(5)\n",
        "r = Rectangle(4, 6)\n",
        "print(\"Circle area:\", c.area())\n",
        "print(\"Rectangle area:\", r.area())\n"
      ],
      "metadata": {
        "colab": {
          "base_uri": "https://localhost:8080/"
        },
        "id": "_84jeTndoBYx",
        "outputId": "9792e326-afb8-4c8a-9852-9736c6ec1004"
      },
      "execution_count": 155,
      "outputs": [
        {
          "output_type": "stream",
          "name": "stdout",
          "text": [
            "Circle area: 78.53981633974483\n",
            "Rectangle area: 24\n"
          ]
        }
      ]
    },
    {
      "cell_type": "code",
      "source": [
        "#3. Multi-level Inheritance: Vehicle → Car → ElectricCar\n",
        "\n",
        "class Vehicle:\n",
        "    def __init__(self, vehicle_type):\n",
        "        self.type = vehicle_type\n",
        "\n",
        "class Car(Vehicle):\n",
        "    def __init__(self, brand, vehicle_type=\"Car\"):\n",
        "        super().__init__(vehicle_type)\n",
        "        self.brand = brand\n",
        "\n",
        "class ElectricCar(Car):\n",
        "    def __init__(self, brand, battery_capacity):\n",
        "        super().__init__(brand)\n",
        "        self.battery = battery_capacity\n",
        "\n",
        "ecar = ElectricCar(\"Tesla\", \"75 kWh\")\n",
        "print(f\"{ecar.brand} is a {ecar.type} with {ecar.battery} battery.\")"
      ],
      "metadata": {
        "colab": {
          "base_uri": "https://localhost:8080/"
        },
        "id": "EwLT2QokoHmJ",
        "outputId": "40f7e3b4-6546-4955-c585-0f07c78c1f95"
      },
      "execution_count": 156,
      "outputs": [
        {
          "output_type": "stream",
          "name": "stdout",
          "text": [
            "Tesla is a Car with 75 kWh battery.\n"
          ]
        }
      ]
    },
    {
      "cell_type": "code",
      "source": [
        "#4)Polymorphism with Bird, Sparrow, and Penguin\n",
        "class Bird:\n",
        "    def fly(self):\n",
        "        print(\"Bird is flying\")\n",
        "\n",
        "class Sparrow(Bird):\n",
        "    def fly(self):\n",
        "        print(\"Sparrow flies high\")\n",
        "\n",
        "class Penguin(Bird):\n",
        "    def fly(self):\n",
        "        print(\"Penguin cannot fly\")\n",
        "\n",
        "birds = [Sparrow(), Penguin()]\n",
        "for bird in birds:\n",
        "    bird.fly()"
      ],
      "metadata": {
        "colab": {
          "base_uri": "https://localhost:8080/"
        },
        "id": "8LnXcLMGoQkd",
        "outputId": "fe2b0081-d07d-405a-ebfd-a6e56c5ac97f"
      },
      "execution_count": 157,
      "outputs": [
        {
          "output_type": "stream",
          "name": "stdout",
          "text": [
            "Sparrow flies high\n",
            "Penguin cannot fly\n"
          ]
        }
      ]
    },
    {
      "cell_type": "code",
      "source": [
        "#5. Encapsulation in BankAccount\n",
        "class BankAccount:\n",
        "    def __init__(self):\n",
        "        self.__balance = 0\n",
        "\n",
        "    def deposit(self, amount):\n",
        "        if amount > 0:\n",
        "            self.__balance += amount\n",
        "\n",
        "    def withdraw(self, amount):\n",
        "        if 0 < amount <= self.__balance:\n",
        "            self.__balance -= amount\n",
        "\n",
        "    def get_balance(self):\n",
        "        return self.__balance\n",
        "\n",
        "acc = BankAccount()\n",
        "acc.deposit(1000)\n",
        "acc.withdraw(400)\n",
        "print(\"Balance:\", acc.get_balance())\n"
      ],
      "metadata": {
        "colab": {
          "base_uri": "https://localhost:8080/"
        },
        "id": "NmAVQl9LoSd8",
        "outputId": "447c4dd2-83c5-4454-b6b1-b1a01281f69d"
      },
      "execution_count": 158,
      "outputs": [
        {
          "output_type": "stream",
          "name": "stdout",
          "text": [
            "Balance: 600\n"
          ]
        }
      ]
    },
    {
      "cell_type": "code",
      "source": [
        "#6. Runtime Polymorphism with Instrument\n",
        "class Instrument:\n",
        "    def play(self):\n",
        "        print(\"Playing instrument\")\n",
        "\n",
        "class Guitar(Instrument):\n",
        "    def play(self):\n",
        "        print(\"Strumming the guitar\")\n",
        "\n",
        "class Piano(Instrument):\n",
        "    def play(self):\n",
        "        print(\"Playing the piano\")\n",
        "\n",
        "for i in [Guitar(), Piano()]:\n",
        "    i.play()\n"
      ],
      "metadata": {
        "colab": {
          "base_uri": "https://localhost:8080/"
        },
        "id": "AGjSdVx8oYB6",
        "outputId": "b662ab69-cd51-45e0-ca00-8efa259fa375"
      },
      "execution_count": 159,
      "outputs": [
        {
          "output_type": "stream",
          "name": "stdout",
          "text": [
            "Strumming the guitar\n",
            "Playing the piano\n"
          ]
        }
      ]
    },
    {
      "cell_type": "code",
      "source": [
        "#7. Class and Static Methods in MathOperations\n",
        "class MathOperations:\n",
        "    @classmethod\n",
        "    def add_numbers(cls, a, b):\n",
        "        return a + b\n",
        "\n",
        "    @staticmethod\n",
        "    def subtract_numbers(a, b):\n",
        "        return a - b\n",
        "\n",
        "print(\"Add:\", MathOperations.add_numbers(5, 3))\n",
        "print(\"Subtract:\", MathOperations.subtract_numbers(10, 4))\n"
      ],
      "metadata": {
        "colab": {
          "base_uri": "https://localhost:8080/"
        },
        "id": "jASLFrPlobfj",
        "outputId": "ead78c34-1503-4cc8-a9b4-41185404c7d4"
      },
      "execution_count": 160,
      "outputs": [
        {
          "output_type": "stream",
          "name": "stdout",
          "text": [
            "Add: 8\n",
            "Subtract: 6\n"
          ]
        }
      ]
    },
    {
      "cell_type": "code",
      "source": [
        "#8. Class Method to Count Person Instances\n",
        "class Person:\n",
        "    count = 0\n",
        "\n",
        "    def __init__(self, name):\n",
        "        self.name = name\n",
        "        Person.count += 1\n",
        "\n",
        "    @classmethod\n",
        "    def total_persons(cls):\n",
        "        return cls.count\n",
        "\n",
        "p1 = Person(\"Alice\")\n",
        "p2 = Person(\"Bob\")\n",
        "print(\"Total persons created:\", Person.total_persons())\n"
      ],
      "metadata": {
        "colab": {
          "base_uri": "https://localhost:8080/"
        },
        "id": "5-7Skjz-ocgI",
        "outputId": "68ccb2b6-0c4a-43f2-b181-7420c51b7630"
      },
      "execution_count": 161,
      "outputs": [
        {
          "output_type": "stream",
          "name": "stdout",
          "text": [
            "Total persons created: 2\n"
          ]
        }
      ]
    },
    {
      "cell_type": "code",
      "source": [
        "# 9. Override __str__ in Fraction Class\n",
        "class Fraction:\n",
        "    def __init__(self, numerator, denominator):\n",
        "        self.numerator = numerator\n",
        "        self.denominator = denominator\n",
        "\n",
        "    def __str__(self):\n",
        "        return f\"{self.numerator}/{self.denominator}\"\n",
        "\n",
        "f = Fraction(3, 4)\n",
        "print(\"Fraction:\", f)\n"
      ],
      "metadata": {
        "colab": {
          "base_uri": "https://localhost:8080/"
        },
        "id": "RRa6lx5xoght",
        "outputId": "3f08f2c4-b8f9-4918-cc10-c34a10ea8dad"
      },
      "execution_count": 162,
      "outputs": [
        {
          "output_type": "stream",
          "name": "stdout",
          "text": [
            "Fraction: 3/4\n"
          ]
        }
      ]
    },
    {
      "cell_type": "code",
      "source": [
        "#10. Operator Overloading in a Vector Class\n",
        "class Vector:\n",
        "    def __init__(self, x, y):\n",
        "        self.x = x\n",
        "        self.y = y\n",
        "\n",
        "    def __add__(self, other):\n",
        "        return Vector(self.x + other.x, self.y + other.y)\n",
        "\n",
        "    def __str__(self):\n",
        "        return f\"({self.x}, {self.y})\"\n",
        "\n",
        "v1 = Vector(2, 3)\n",
        "v2 = Vector(4, 5)\n",
        "v3 = v1 + v2\n",
        "print(\"Vector Sum:\", v3)\n"
      ],
      "metadata": {
        "colab": {
          "base_uri": "https://localhost:8080/"
        },
        "id": "7Ojbn3Z4oklA",
        "outputId": "71d4c9f2-9153-4d82-f1f4-e0869b83385e"
      },
      "execution_count": 163,
      "outputs": [
        {
          "output_type": "stream",
          "name": "stdout",
          "text": [
            "Vector Sum: (6, 8)\n"
          ]
        }
      ]
    },
    {
      "cell_type": "code",
      "source": [
        " #11. Class Person with greet() Method\n",
        "class Person:\n",
        "    def __init__(self, name, age):\n",
        "        self.name = name\n",
        "        self.age = age\n",
        "\n",
        "    def greet(self):\n",
        "        print(f\"Hello, my name is {self.name} and I am {self.age} years old.\")\n",
        "\n",
        "p = Person(\"Alice\", 30)\n",
        "p.greet()\n"
      ],
      "metadata": {
        "colab": {
          "base_uri": "https://localhost:8080/"
        },
        "id": "dtNWe70Ionta",
        "outputId": "22c1baf6-09b0-4ef9-f65b-dbef40a52002"
      },
      "execution_count": 164,
      "outputs": [
        {
          "output_type": "stream",
          "name": "stdout",
          "text": [
            "Hello, my name is Alice and I am 30 years old.\n"
          ]
        }
      ]
    },
    {
      "cell_type": "code",
      "source": [
        "#12. Class Student with average_grade() Method\n",
        "class Student:\n",
        "    def __init__(self, name, grades):\n",
        "        self.name = name\n",
        "        self.grades = grades\n",
        "\n",
        "    def average_grade(self):\n",
        "        if self.grades:\n",
        "            return sum(self.grades) / len(self.grades)\n",
        "        return 0\n",
        "\n",
        "s = Student(\"Bob\", [85, 90, 78, 92])\n",
        "print(f\"{s.name}'s Average Grade:\", s.average_grade())\n"
      ],
      "metadata": {
        "colab": {
          "base_uri": "https://localhost:8080/"
        },
        "id": "q5ol7j3Qorg2",
        "outputId": "8b3e360c-bbe8-4b49-c838-1a8bdabd16b0"
      },
      "execution_count": 165,
      "outputs": [
        {
          "output_type": "stream",
          "name": "stdout",
          "text": [
            "Bob's Average Grade: 86.25\n"
          ]
        }
      ]
    },
    {
      "cell_type": "code",
      "source": [
        "# 13. Class Rectangle with set_dimensions() and area()\n",
        "class Rectangle:\n",
        "    def __init__(self):\n",
        "        self.width = 0\n",
        "        self.height = 0\n",
        "\n",
        "    def set_dimensions(self, width, height):\n",
        "        self.width = width\n",
        "        self.height = height\n",
        "\n",
        "    def area(self):\n",
        "        return self.width * self.height\n",
        "\n",
        "rect = Rectangle()\n",
        "rect.set_dimensions(5, 4)\n",
        "print(\"Rectangle Area:\", rect.area())\n"
      ],
      "metadata": {
        "colab": {
          "base_uri": "https://localhost:8080/"
        },
        "id": "bzrdFM7UowX_",
        "outputId": "cecc12fa-416d-4e57-e3b0-28f7be147aaa"
      },
      "execution_count": 166,
      "outputs": [
        {
          "output_type": "stream",
          "name": "stdout",
          "text": [
            "Rectangle Area: 20\n"
          ]
        }
      ]
    },
    {
      "cell_type": "code",
      "source": [
        "#14. Inheritance: Employee → Manager with Bonus\n",
        "class Employee:\n",
        "    def __init__(self, hours_worked, hourly_rate):\n",
        "        self.hours_worked = hours_worked\n",
        "        self.hourly_rate = hourly_rate\n",
        "\n",
        "    def calculate_salary(self):\n",
        "        return self.hours_worked * self.hourly_rate\n",
        "\n",
        "class Manager(Employee):\n",
        "    def __init__(self, hours_worked, hourly_rate, bonus):\n",
        "        super().__init__(hours_worked, hourly_rate)\n",
        "        self.bonus = bonus\n",
        "\n",
        "    def calculate_salary(self):\n",
        "        base_salary = super().calculate_salary()\n",
        "        return base_salary + self.bonus\n",
        "\n",
        "emp = Employee(40, 20)\n",
        "mgr = Manager(40, 20, 500)\n",
        "\n",
        "print(\"Employee Salary:\", emp.calculate_salary())\n",
        "print(\"Manager Salary:\", mgr.calculate_salary())\n"
      ],
      "metadata": {
        "colab": {
          "base_uri": "https://localhost:8080/"
        },
        "id": "HVcCGiMbo0k-",
        "outputId": "835f990c-363f-4f13-9155-56098dedf727"
      },
      "execution_count": 167,
      "outputs": [
        {
          "output_type": "stream",
          "name": "stdout",
          "text": [
            "Employee Salary: 800\n",
            "Manager Salary: 1300\n"
          ]
        }
      ]
    },
    {
      "cell_type": "code",
      "source": [
        " #15. Class Product with total_price() Method\n",
        "class Product:\n",
        "    def __init__(self, name, price, quantity):\n",
        "        self.name = name\n",
        "        self.price = price\n",
        "        self.quantity = quantity\n",
        "\n",
        "    def total_price(self):\n",
        "        return self.price * self.quantity\n",
        "\n",
        "p = Product(\"Laptop\", 50000, 2)\n",
        "print(f\"Total price for {p.name}: ₹{p.total_price()}\")\n"
      ],
      "metadata": {
        "colab": {
          "base_uri": "https://localhost:8080/"
        },
        "id": "fY7KesX6o48S",
        "outputId": "aaa45270-32aa-4583-a613-db261b1172ba"
      },
      "execution_count": 168,
      "outputs": [
        {
          "output_type": "stream",
          "name": "stdout",
          "text": [
            "Total price for Laptop: ₹100000\n"
          ]
        }
      ]
    },
    {
      "cell_type": "code",
      "source": [
        "#16. Abstract Class Animal with Cow and Sheep Implementations\n",
        "from abc import ABC, abstractmethod\n",
        "\n",
        "class Animal(ABC):\n",
        "    @abstractmethod\n",
        "    def sound(self):\n",
        "        pass\n",
        "\n",
        "class Cow(Animal):\n",
        "    def sound(self):\n",
        "        return \"Moo\"\n",
        "\n",
        "class Sheep(Animal):\n",
        "    def sound(self):\n",
        "        return \"Baa\"\n",
        "\n",
        "animals = [Cow(), Sheep()]\n",
        "for animal in animals:\n",
        "    print(animal.sound())\n"
      ],
      "metadata": {
        "colab": {
          "base_uri": "https://localhost:8080/"
        },
        "id": "PzR5gn5qo8AZ",
        "outputId": "511ece02-38d9-412f-ab6b-39d6ad753bde"
      },
      "execution_count": 169,
      "outputs": [
        {
          "output_type": "stream",
          "name": "stdout",
          "text": [
            "Moo\n",
            "Baa\n"
          ]
        }
      ]
    },
    {
      "cell_type": "code",
      "source": [
        "#17. Class Book with get_book_info() Method\n",
        "class Book:\n",
        "    def __init__(self, title, author, year_published):\n",
        "        self.title = title\n",
        "        self.author = author\n",
        "        self.year = year_published\n",
        "\n",
        "    def get_book_info(self):\n",
        "        return f\"'{self.title}' by {self.author} (Published: {self.year})\"\n",
        "\n",
        "b = Book(\"1984\", \"George Orwell\", 1949)\n",
        "print(b.get_book_info())\n"
      ],
      "metadata": {
        "colab": {
          "base_uri": "https://localhost:8080/"
        },
        "id": "Pq2oDZ5_pAg3",
        "outputId": "b4a6ff3a-040e-465a-d479-b6d1e2ef977d"
      },
      "execution_count": 170,
      "outputs": [
        {
          "output_type": "stream",
          "name": "stdout",
          "text": [
            "'1984' by George Orwell (Published: 1949)\n"
          ]
        }
      ]
    },
    {
      "cell_type": "code",
      "source": [
        "# 18. Class House and Derived Class Mansion\n",
        "class House:\n",
        "    def __init__(self, address, price):\n",
        "        self.address = address\n",
        "        self.price = price\n",
        "\n",
        "class Mansion(House):\n",
        "    def __init__(self, address, price, number_of_rooms):\n",
        "        super().__init__(address, price)\n",
        "        self.number_of_rooms = number_of_rooms\n",
        "\n",
        "m = Mansion(\"123 Elite Lane\", 10000000, 10)\n",
        "print(f\"Mansion at {m.address} costs ₹{m.price} and has {m.number_of_rooms} rooms.\")\n"
      ],
      "metadata": {
        "colab": {
          "base_uri": "https://localhost:8080/"
        },
        "id": "Liqa-tX7pDxN",
        "outputId": "c3a10548-9c94-4f5a-ff51-614864049cbd"
      },
      "execution_count": 171,
      "outputs": [
        {
          "output_type": "stream",
          "name": "stdout",
          "text": [
            "Mansion at 123 Elite Lane costs ₹10000000 and has 10 rooms.\n"
          ]
        }
      ]
    }
  ]
}